{
 "cells": [
  {
   "cell_type": "markdown",
   "id": "05e81cc1",
   "metadata": {},
   "source": [
    "# Data Analysis for regression"
   ]
  },
  {
   "cell_type": "markdown",
   "id": "85cea8c7",
   "metadata": {},
   "source": [
    "### A notebook with data analysis of 52 anonymized features and target data"
   ]
  },
  {
   "cell_type": "markdown",
   "id": "dca1bd9b",
   "metadata": {},
   "source": [
    "## Importing libraries and data, quick overview"
   ]
  },
  {
   "cell_type": "code",
   "execution_count": null,
   "id": "5124bd94",
   "metadata": {},
   "outputs": [],
   "source": [
    "#importing libraries \n",
    "import pandas as pd\n",
    "import numpy as np\n",
    "import seaborn as sns\n",
    "import matplotlib.pyplot as plt"
   ]
  },
  {
   "cell_type": "markdown",
   "id": "2dc8162f",
   "metadata": {},
   "source": [
    "Printing 5 records:"
   ]
  },
  {
   "cell_type": "code",
   "execution_count": null,
   "id": "ddeb732d",
   "metadata": {},
   "outputs": [],
   "source": [
    "df = pd.read_csv('internship_train.csv')\n",
    "df.head(5)"
   ]
  },
  {
   "cell_type": "markdown",
   "id": "e8361526",
   "metadata": {},
   "source": [
    "Plotting correlation heatmap to see if there are any strong correlations within data:"
   ]
  },
  {
   "cell_type": "code",
   "execution_count": null,
   "id": "92535fab",
   "metadata": {},
   "outputs": [],
   "source": [
    "total = df.isnull()\n",
    "total.sum()"
   ]
  },
  {
   "cell_type": "markdown",
   "id": "ce8158c7",
   "metadata": {},
   "source": [
    "There are no missing data. "
   ]
  },
  {
   "cell_type": "code",
   "execution_count": null,
   "id": "99089b21",
   "metadata": {
    "scrolled": true
   },
   "outputs": [],
   "source": [
    "df.describe()"
   ]
  },
  {
   "cell_type": "markdown",
   "id": "fabfc70b",
   "metadata": {},
   "source": [
    "## Correlations"
   ]
  },
  {
   "cell_type": "markdown",
   "id": "61c45917",
   "metadata": {},
   "source": [
    "Checking correlations beetween features.\n",
    "Visualising correaltions:"
   ]
  },
  {
   "cell_type": "code",
   "execution_count": null,
   "id": "8d96756c",
   "metadata": {
    "scrolled": true
   },
   "outputs": [],
   "source": [
    "sns.heatmap(df.corr(), vmin=0.8, vmax=0.9)\n",
    "plt.show()"
   ]
  },
  {
   "cell_type": "markdown",
   "id": "49fd2344",
   "metadata": {},
   "source": [
    "Let's find all the features with correlation higher than 0.7:"
   ]
  },
  {
   "cell_type": "code",
   "execution_count": null,
   "id": "a812944a",
   "metadata": {},
   "outputs": [],
   "source": [
    "# creating DataFrame with features correlations:\n",
    "absolute_corr = df.corr().abs()\n",
    "corr_df = absolute_corr.unstack()\n",
    "corr_df = corr_df.sort_values(ascending=False)\n",
    "corr_df = pd.DataFrame(corr_df).reset_index()\n",
    "corr_df.rename(columns = {'level_0':'Feature_1', 'level_1': 'Feature_2'}, inplace= True)\n",
    "\n",
    "high_corr_df = corr_df[(corr_df['Feature_1'] != corr_df['Feature_2']) & (corr_df[0] > 0.7)] \n",
    "print('Features with strong correlation: \\n')\n",
    "print(high_corr_df)\n",
    "\n"
   ]
  },
  {
   "cell_type": "markdown",
   "id": "27f3d271",
   "metadata": {},
   "source": [
    "There is a strong correlation between feature 6 and 8.\n",
    "It might by a good idea to choose only one of those features in the regression model.\n",
    "\n",
    "Checking correlations between features and target:"
   ]
  },
  {
   "cell_type": "code",
   "execution_count": null,
   "id": "65a68e4a",
   "metadata": {},
   "outputs": [],
   "source": [
    "other_corr_df = corr_df[(corr_df['Feature_1'] != corr_df['Feature_2']) & (corr_df['Feature_2']=='target')] \n",
    "print('Features vs \\'target\\' correlations: \\n')\n",
    "print(other_corr_df.to_string(index=False))"
   ]
  },
  {
   "cell_type": "markdown",
   "id": "1d8b93bd",
   "metadata": {},
   "source": [
    "## Distributions"
   ]
  },
  {
   "cell_type": "markdown",
   "id": "3e717b89",
   "metadata": {},
   "source": [
    "Plotting distributions of chosen variables (binary '8', highly correlated to '8' '6', ):"
   ]
  },
  {
   "cell_type": "code",
   "execution_count": null,
   "id": "b4fa0ba7",
   "metadata": {},
   "outputs": [],
   "source": [
    "sns.set(rc={\"figure.dpi\":50, 'savefig.dpi':50})\n",
    "\n",
    "for i in df.columns.drop('target'):\n",
    "    sns.scatterplot(x=i, y='target', size=0.1, data=df)\n",
    "    plt.show()"
   ]
  },
  {
   "cell_type": "markdown",
   "id": "73f4227a",
   "metadata": {},
   "source": [
    "Plotting chosen distributions to to see more details:"
   ]
  },
  {
   "cell_type": "code",
   "execution_count": null,
   "id": "0401491e",
   "metadata": {},
   "outputs": [],
   "source": [
    "sns.set(rc={\"figure.dpi\":72, 'savefig.dpi':72})\n",
    "\n",
    "to_plot = ['6', '7', '8', '40', '26']\n",
    "\n",
    "for feature in to_plot:\n",
    "    sns.scatterplot(x=feature, y='target', size=0.1, data=df).set_title('Distribution of feature '+feature)\n",
    "    plt.show()"
   ]
  },
  {
   "cell_type": "markdown",
   "id": "7f68eabb",
   "metadata": {},
   "source": [
    "Feature '6' and output have a clearly visible quadratic correlation.\n",
    "Most of the distributions looks rather noisy, there is only a minor order in the feature '7'. \n",
    "The are no outliers."
   ]
  },
  {
   "cell_type": "markdown",
   "id": "6c22f246",
   "metadata": {},
   "source": [
    "## Summary"
   ]
  },
  {
   "cell_type": "markdown",
   "id": "a3f59119",
   "metadata": {},
   "source": [
    "- Feature '8' shloud not be included in the model (it has a strong correlation with '6', also '8' is binary so it provides small amount of data for the model, while you '6' has a clear quadratic correlation with the output)\n",
    "- The best choice for the ML alogirthm seems to be **second degree polynomial regression** with '6' as a feature and possibly other manually chosen features."
   ]
  }
 ],
 "metadata": {
  "kernelspec": {
   "display_name": "Python 3 (ipykernel)",
   "language": "python",
   "name": "python3"
  },
  "language_info": {
   "codemirror_mode": {
    "name": "ipython",
    "version": 3
   },
   "file_extension": ".py",
   "mimetype": "text/x-python",
   "name": "python",
   "nbconvert_exporter": "python",
   "pygments_lexer": "ipython3",
   "version": "3.9.13"
  }
 },
 "nbformat": 4,
 "nbformat_minor": 5
}
